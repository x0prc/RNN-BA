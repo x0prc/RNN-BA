{
  "nbformat": 4,
  "nbformat_minor": 0,
  "metadata": {
    "colab": {
      "provenance": []
    },
    "kernelspec": {
      "name": "python3",
      "display_name": "Python 3"
    },
    "language_info": {
      "name": "python"
    }
  },
  "cells": [
    {
      "cell_type": "markdown",
      "source": [
        "# Novel Smartphone Authentication Technique"
      ],
      "metadata": {
        "id": "BSmCSiJLGAQE"
      }
    },
    {
      "cell_type": "markdown",
      "source": [
        "## Importing Libraries"
      ],
      "metadata": {
        "id": "WKmalwXZHg9x"
      }
    },
    {
      "cell_type": "code",
      "source": [
        "import numpy as np\n",
        "from tensorflow.keras.models import Sequential\n",
        "from tensorflow.keras.layers import LSTM, Dense"
      ],
      "metadata": {
        "id": "kdmEw2LzGHhf"
      },
      "execution_count": null,
      "outputs": []
    },
    {
      "cell_type": "markdown",
      "source": [
        "## Data Preprocessing"
      ],
      "metadata": {
        "id": "R454hRGWHndX"
      }
    },
    {
      "cell_type": "code",
      "source": [
        "def load_sensor_data(filepath):\n",
        "  data = np.genfromtxt(filepath, delimiter=',')\n",
        "  gyroscope_data = data[:, :3]\n",
        "  accelerometer_data = data[:, 3:]\n",
        "  return gyroscope_data, accelerometer_data\n",
        "\n",
        "def segment_gait_cycles(gyroscope_data, accelerometer_data, window_size=100, stride=50):\n",
        "  gait_cycles = []\n",
        "  for i in range(0, len(gyroscope_data) - window_size + 1, stride):\n",
        "    gyroscope_window = gyroscope_data[i:i+window_size]\n",
        "    accelerometer_window = accelerometer_data[i:i+window_size]\n",
        "    gait_cycle = np.concatenate((gyroscope_window, accelerometer_window), axis=1)\n",
        "    gait_cycles.append(gait_cycle)\n",
        "  return gait_cycles\n",
        "\n",
        "def normalize_data(data):\n",
        "  normalized_cycles = []\n",
        "  for cycle in gait_cycles:\n",
        "    normalized_cycle = (cycle - cycle.min(axis=0)) / (cycle.max(axis=0) - cycle.min(axis=0))\n",
        "    normalized_cycles.append(normalized_cycle)\n",
        "  return normalized_cycles"
      ],
      "metadata": {
        "id": "Jf0whEQAHsGg"
      },
      "execution_count": null,
      "outputs": []
    },
    {
      "cell_type": "markdown",
      "source": [
        "## Preprocess Gait Data"
      ],
      "metadata": {
        "id": "8S8ntIZbHuov"
      }
    },
    {
      "cell_type": "code",
      "source": [
        "gyroscope_data, accelerometer_data = load_sensor_data(\"http://www.am.sanken.osaka-u.ac.jp/BiometricDB/dataset/GaitLP/OULP-C1V1_Pack.zip\")\n",
        "gait_cycles = segment_gait_cycles(gyroscope_data, accelerometer_data)\n",
        "normalized_data = normalize_data(gait_cycles)\n",
        "\n",
        "model = Sequential()\n",
        "model.add(LSTM(units=128, return_sequences=True, input_shape=(normalized_data.shape[1], normalized_data.shape[2])))\n",
        "model.add(LSTM(units=64))\n",
        "model.add(Dense(units=64, activation='relu'))\n",
        "model.add(Dense(number_of_users, activation='softmax'))\n",
        "\n",
        "model.compile(loss='categorical_crossentropy', optimizer='adam', metrics=['accuracy'])"
      ],
      "metadata": {
        "id": "YMCWmT0DHysj"
      },
      "execution_count": null,
      "outputs": []
    },
    {
      "cell_type": "markdown",
      "source": [
        "## Train Model"
      ],
      "metadata": {
        "id": "FpPXE28fH6fu"
      }
    },
    {
      "cell_type": "code",
      "source": [
        "model.fit(X_train, y_train, epochs=100)"
      ],
      "metadata": {
        "id": "G92w1BiCH8m0"
      },
      "execution_count": null,
      "outputs": []
    }
  ]
}