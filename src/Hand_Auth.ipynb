{
  "nbformat": 4,
  "nbformat_minor": 0,
  "metadata": {
    "colab": {
      "provenance": []
    },
    "kernelspec": {
      "name": "python3",
      "display_name": "Python 3"
    },
    "language_info": {
      "name": "python"
    }
  },
  "cells": [
    {
      "cell_type": "markdown",
      "source": [
        "# Handwritten Authentication Methods"
      ],
      "metadata": {
        "id": "cQxOMao6c7ru"
      }
    },
    {
      "cell_type": "markdown",
      "source": [
        "## Importing Libraries"
      ],
      "metadata": {
        "id": "ds_dAlFTduKp"
      }
    },
    {
      "cell_type": "code",
      "source": [
        "import tensorflow as tf\n",
        "from tensorflow.keras.layers import LSTM, Dense"
      ],
      "metadata": {
        "id": "YAzu_R6Rc_Jl"
      },
      "execution_count": null,
      "outputs": []
    },
    {
      "cell_type": "markdown",
      "source": [
        "## Define Siamese Network with LSTM"
      ],
      "metadata": {
        "id": "BOwBplerdyMA"
      }
    },
    {
      "cell_type": "code",
      "source": [
        "def siamese_network(timesteps, features):\n",
        "  inputs = tf.keras.Input(shape=(timesteps, features))\n",
        "  x = LSTM(units=128, return_sequences=True)(inputs)\n",
        "  x = LSTM(units=64)(x)\n",
        "  output = Dense(units=32)(x)\n",
        "  return tf.keras.Model(inputs=inputs, outputs=output)\n",
        "\n",
        "model = tf.keras.Model(\n",
        "    inputs=[siamese_network(timesteps, features), siamese_network(timesteps, features)],\n",
        "    outputs=tf.keras.layers.Lambda(lambda x: tf.abs(x[0] - x[1]))([siamese_network(timesteps, features), siamese_network(timesteps, features)]))"
      ],
      "metadata": {
        "id": "4zoSeg9Ed1H8"
      },
      "execution_count": null,
      "outputs": []
    },
    {
      "cell_type": "markdown",
      "source": [
        "## Compile and Verify the Model"
      ],
      "metadata": {
        "id": "ueGfUAFQeB66"
      }
    },
    {
      "cell_type": "code",
      "source": [
        "model.compile(loss='contrastive_loss', optimizer='adam')\n",
        "\n",
        "def verify_signature(genuine, claimed, threshold):\n",
        "  distance = model.predict([genuine, claimed])\n",
        "  return distance < threshold"
      ],
      "metadata": {
        "id": "4aXITRzveDdu"
      },
      "execution_count": null,
      "outputs": []
    },
    {
      "cell_type": "markdown",
      "source": [
        "## Processing the Data"
      ],
      "metadata": {
        "id": "Iy_KBcPQeLa3"
      }
    },
    {
      "cell_type": "code",
      "source": [
        "def verify_signature(genuine, claimed, threshold):\n",
        "  timesteps = len(genuine)\n",
        "  features = len(genuine[0])\n",
        "\n",
        "  genuine_data = np.array([signature for signature in genuine])\n",
        "  claimed_data = np.array([signature for signature in claimed])\n",
        "\n",
        "  distance = model.predict([genuine_data, claimed_data])\n",
        "  return distance < threshold"
      ],
      "metadata": {
        "id": "SWFhbzQGeNaX"
      },
      "execution_count": null,
      "outputs": []
    },
    {
      "cell_type": "markdown",
      "source": [
        "## Verify the Data"
      ],
      "metadata": {
        "id": "sQH1HLWXeqbf"
      }
    },
    {
      "cell_type": "code",
      "source": [
        "verification_result = verify_signature(genuine_signature, claimed_signature, 0.5)\n",
        "\n",
        "if verification_result:\n",
        "  print(\"Signature verified!\")\n",
        "else:\n",
        "  print(\"Signature verification failed!\")"
      ],
      "metadata": {
        "id": "gdaD2rABer8T"
      },
      "execution_count": null,
      "outputs": []
    }
  ]
}